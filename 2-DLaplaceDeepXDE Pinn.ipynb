{
 "cells": [
  {
   "cell_type": "code",
   "execution_count": 1,
   "id": "d5cf77e5",
   "metadata": {},
   "outputs": [
    {
     "name": "stderr",
     "output_type": "stream",
     "text": [
      "Using backend: tensorflow.compat.v1\n",
      "\n"
     ]
    },
    {
     "name": "stdout",
     "output_type": "stream",
     "text": [
      "WARNING:tensorflow:From C:\\Users\\Akash\\anaconda3\\lib\\site-packages\\tensorflow\\python\\compat\\v2_compat.py:107: disable_resource_variables (from tensorflow.python.ops.variable_scope) is deprecated and will be removed in a future version.\n",
      "Instructions for updating:\n",
      "non-resource variables are not supported in the long term\n",
      "WARNING:tensorflow:From C:\\Users\\Akash\\anaconda3\\lib\\site-packages\\deepxde\\nn\\initializers.py:118: The name tf.keras.initializers.he_normal is deprecated. Please use tf.compat.v1.keras.initializers.he_normal instead.\n",
      "\n"
     ]
    }
   ],
   "source": [
    "import matplotlib.pyplot as plt\n",
    "import numpy as np\n",
    "\n",
    "import deepxde as dde\n",
    "from deepxde.backend import tf\n",
    "import math"
   ]
  },
  {
   "cell_type": "code",
   "execution_count": 2,
   "id": "7028f4fe",
   "metadata": {},
   "outputs": [],
   "source": [
    "def pde(x, y):\n",
    "    dy_x = tf.gradients(y, x)[0]\n",
    "    dy_x, dy_y = dy_x[:, 0:1], dy_x[:, 1:]\n",
    "    dy_xx = tf.gradients(dy_x, x)[0][:, 0:1]\n",
    "    dy_yy = tf.gradients(dy_y, x)[0][:, 1:]\n",
    "    return -dy_xx - dy_yy"
   ]
  },
  {
   "cell_type": "code",
   "execution_count": 3,
   "id": "3708ab6f",
   "metadata": {},
   "outputs": [],
   "source": [
    "pi=math.pi"
   ]
  },
  {
   "cell_type": "code",
   "execution_count": 4,
   "id": "d1d7a965",
   "metadata": {},
   "outputs": [],
   "source": [
    "a=3*pi"
   ]
  },
  {
   "cell_type": "code",
   "execution_count": 6,
   "id": "c0dbb559",
   "metadata": {},
   "outputs": [],
   "source": [
    "b=pi"
   ]
  },
  {
   "cell_type": "code",
   "execution_count": 7,
   "id": "f549e9b8",
   "metadata": {},
   "outputs": [],
   "source": [
    "geom = dde.geometry.Rectangle([0, 0], [9.42, 3.14])"
   ]
  },
  {
   "cell_type": "code",
   "execution_count": 8,
   "id": "37740460",
   "metadata": {},
   "outputs": [],
   "source": [
    "def boundary(_, on_boundary):\n",
    "    return on_boundary"
   ]
  },
  {
   "cell_type": "code",
   "execution_count": 13,
   "id": "a43636a1",
   "metadata": {},
   "outputs": [],
   "source": [
    "def boundary_bottom(x, on_boundary):\n",
    "    return on_boundary and np.isclose(x[1], 0) "
   ]
  },
  {
   "cell_type": "code",
   "execution_count": 14,
   "id": "6039ab14",
   "metadata": {},
   "outputs": [],
   "source": [
    "def boundary_left(x, on_boundary):\n",
    "    return on_boundary and np.isclose(x[0], 0)  "
   ]
  },
  {
   "cell_type": "code",
   "execution_count": 15,
   "id": "03780b1a",
   "metadata": {},
   "outputs": [],
   "source": [
    "def boundary_top(x, on_boundary):\n",
    "    return on_boundary and np.isclose(x[1], 3.14)"
   ]
  },
  {
   "cell_type": "code",
   "execution_count": 16,
   "id": "7cadd573",
   "metadata": {},
   "outputs": [],
   "source": [
    "def boundary_right(x, on_boundary):\n",
    "    return on_boundary and np.isclose(x[0], 9.42)"
   ]
  },
  {
   "cell_type": "code",
   "execution_count": 17,
   "id": "7606280c",
   "metadata": {},
   "outputs": [],
   "source": [
    "###conditionals\n",
    "def func1(x):\n",
    "\n",
    "     return np.sin(x[:,0:1]) / np.sin(9.42)"
   ]
  },
  {
   "cell_type": "code",
   "execution_count": 18,
   "id": "fd1887e1",
   "metadata": {},
   "outputs": [],
   "source": [
    "###conditionals\n",
    "def func2(x):\n",
    "     \n",
    "    return np.sinh( x[:,1:2]) / np.sinh(3.14 )"
   ]
  },
  {
   "cell_type": "code",
   "execution_count": 19,
   "id": "4b98baa3",
   "metadata": {},
   "outputs": [],
   "source": [
    "def func3(x):\n",
    "     num_data = x.shape[0]\n",
    "     return np.zeros((num_data,1))"
   ]
  },
  {
   "cell_type": "code",
   "execution_count": 20,
   "id": "c2ccbf68",
   "metadata": {},
   "outputs": [],
   "source": [
    "bc_1=dde.DirichletBC(geom,func1,boundary_top)"
   ]
  },
  {
   "cell_type": "code",
   "execution_count": 21,
   "id": "0e0498f5",
   "metadata": {},
   "outputs": [],
   "source": [
    "bc_2=dde.DirichletBC(geom,func2,boundary_right)"
   ]
  },
  {
   "cell_type": "code",
   "execution_count": 22,
   "id": "7082f256",
   "metadata": {},
   "outputs": [],
   "source": [
    "bc_3=dde.DirichletBC(geom,func3,boundary_bottom)"
   ]
  },
  {
   "cell_type": "code",
   "execution_count": 23,
   "id": "61354f46",
   "metadata": {},
   "outputs": [],
   "source": [
    "bc_4=dde.DirichletBC(geom,func3,boundary_left)"
   ]
  },
  {
   "cell_type": "code",
   "execution_count": 24,
   "id": "0f6c2930",
   "metadata": {},
   "outputs": [
    {
     "name": "stdout",
     "output_type": "stream",
     "text": [
      "Warning: 15000 points required, but 15123 points sampled.\n"
     ]
    }
   ],
   "source": [
    "data = dde.data.PDE(geom, pde, [bc_2, bc_1, bc_3,bc_4], num_domain=60000, num_boundary=6000, num_test=15000)"
   ]
  },
  {
   "cell_type": "code",
   "execution_count": 25,
   "id": "ca85fab4",
   "metadata": {},
   "outputs": [],
   "source": [
    "#data = dde.data.PDE(geom, pde, [bc_1, bc_2, bc_3,bc_4], num_domain=60000, num_boundary=60000)"
   ]
  },
  {
   "cell_type": "code",
   "execution_count": 27,
   "id": "2419b136",
   "metadata": {},
   "outputs": [],
   "source": [
    "net = dde.maps.FNN([2] + [50] * 4 + [1], \"tanh\", \"Glorot uniform\")\n",
    "model = dde.Model(data, net)"
   ]
  },
  {
   "cell_type": "code",
   "execution_count": 28,
   "id": "ed80c8c9",
   "metadata": {},
   "outputs": [
    {
     "name": "stdout",
     "output_type": "stream",
     "text": [
      "Compiling model...\n",
      "Building feed-forward neural network...\n",
      "'build' took 0.081864 s\n",
      "\n"
     ]
    },
    {
     "name": "stderr",
     "output_type": "stream",
     "text": [
      "C:\\Users\\Akash\\anaconda3\\lib\\site-packages\\deepxde\\nn\\tensorflow_compat_v1\\fnn.py:114: UserWarning: `tf.layers.dense` is deprecated and will be removed in a future version. Please use `tf.keras.layers.Dense` instead.\n",
      "  return tf.layers.dense(\n"
     ]
    },
    {
     "name": "stdout",
     "output_type": "stream",
     "text": [
      "'compile' took 0.893001 s\n",
      "\n",
      "Warning: epochs is deprecated and will be removed in a future version. Use iterations instead.\n",
      "Initializing variables...\n",
      "Training model...\n",
      "\n",
      "Step      Train loss                                            Test loss                                             Test metric\n",
      "0         [4.98e-03, 5.49e-02, 2.19e+04, 5.29e-02, 1.03e-02]    [5.24e-03, 5.49e-02, 2.19e+04, 5.29e-02, 1.03e-02]    []  \n",
      "1000      [2.21e+02, 2.37e+02, 9.35e+03, 3.55e+00, 6.35e+00]    [1.69e+02, 2.37e+02, 9.35e+03, 3.55e+00, 6.35e+00]    []  \n",
      "2000      [1.71e+02, 1.32e+02, 4.81e+03, 6.23e+00, 1.73e+01]    [7.59e+01, 1.32e+02, 4.81e+03, 6.23e+00, 1.73e+01]    []  \n",
      "\n",
      "Best model at step 2000:\n",
      "  train loss: 5.14e+03\n",
      "  test loss: 5.04e+03\n",
      "  test metric: []\n",
      "\n",
      "'train' took 1622.535670 s\n",
      "\n",
      "Compiling model...\n",
      "'compile' took 0.839494 s\n",
      "\n",
      "Training model...\n",
      "\n",
      "Step      Train loss                                            Test loss                                             Test metric\n",
      "2000      [1.71e+02, 1.32e+02, 4.81e+03, 6.23e+00, 1.73e+01]    [7.59e+01, 1.32e+02, 4.81e+03, 6.23e+00, 1.73e+01]    []  \n",
      "3000      [6.97e-01, 4.14e-02, 7.40e-02, 1.08e-01, 7.37e-03]    [6.97e-01, 4.14e-02, 7.40e-02, 1.08e-01, 7.37e-03]        \n",
      "4000      [1.12e-01, 1.60e-02, 9.35e-03, 1.52e-02, 1.73e-03]    [1.12e-01, 1.60e-02, 9.35e-03, 1.52e-02, 1.73e-03]        \n",
      "5000      [5.24e-02, 7.08e-03, 3.78e-03, 7.25e-03, 9.18e-04]    [5.24e-02, 7.08e-03, 3.78e-03, 7.25e-03, 9.18e-04]        \n",
      "6000      [2.94e-02, 5.34e-03, 2.48e-03, 3.58e-03, 1.25e-04]    [2.94e-02, 5.34e-03, 2.48e-03, 3.58e-03, 1.25e-04]        \n",
      "INFO:tensorflow:Optimization terminated with:\n",
      "  Message: CONVERGENCE: REL_REDUCTION_OF_F_<=_FACTR*EPSMCH\n",
      "  Objective function value: 0.033028\n",
      "  Number of iterations: 4310\n",
      "  Number of functions evaluations: 4641\n",
      "6641      [2.49e-02, 3.53e-03, 2.01e-03, 2.58e-03, 4.80e-05]    [1.98e-02, 3.53e-03, 2.01e-03, 2.58e-03, 4.80e-05]    []  \n",
      "\n",
      "Best model at step 6641:\n",
      "  train loss: 3.30e-02\n",
      "  test loss: 2.80e-02\n",
      "  test metric: []\n",
      "\n",
      "'train' took 4037.723930 s\n",
      "\n"
     ]
    }
   ],
   "source": [
    "model.compile(\"adam\", lr=0.001)\n",
    "losshistory, train_state = model.train(epochs=2000)\n",
    "model.compile(\"L-BFGS-B\")\n",
    "losshistory, train_state = model.train()"
   ]
  },
  {
   "cell_type": "code",
   "execution_count": 29,
   "id": "390c5a51",
   "metadata": {},
   "outputs": [],
   "source": [
    "x_data=np.linspace(0,9.42,num=1000)"
   ]
  },
  {
   "cell_type": "code",
   "execution_count": 30,
   "id": "b0ae860d",
   "metadata": {},
   "outputs": [],
   "source": [
    "y_data=np.linspace(0,3.14,num=1000)"
   ]
  },
  {
   "cell_type": "code",
   "execution_count": 31,
   "id": "29971bbf",
   "metadata": {},
   "outputs": [],
   "source": [
    "test_x,test_y = np.meshgrid(x_data,y_data)"
   ]
  },
  {
   "cell_type": "code",
   "execution_count": 32,
   "id": "08e00988",
   "metadata": {},
   "outputs": [],
   "source": [
    "test_domain=np.vstack((np.ravel(test_x),np.ravel(test_y))).T"
   ]
  },
  {
   "cell_type": "code",
   "execution_count": 33,
   "id": "9a3a38d4",
   "metadata": {},
   "outputs": [],
   "source": [
    "predicted_solution=model.predict(test_domain)"
   ]
  },
  {
   "cell_type": "code",
   "execution_count": 34,
   "id": "b1554ab1",
   "metadata": {},
   "outputs": [],
   "source": [
    "residual=model.predict(test_domain,operator=pde)"
   ]
  },
  {
   "cell_type": "code",
   "execution_count": 36,
   "id": "60925c54",
   "metadata": {},
   "outputs": [],
   "source": [
    "residual = residual.reshape(1000, 1000)"
   ]
  },
  {
   "cell_type": "code",
   "execution_count": 37,
   "id": "56fee828",
   "metadata": {},
   "outputs": [],
   "source": [
    "predicted_solution = predicted_solution.reshape(1000, 1000)/np.max(predicted_solution)"
   ]
  },
  {
   "cell_type": "code",
   "execution_count": 38,
   "id": "f58fd5e4",
   "metadata": {},
   "outputs": [
    {
     "data": {
      "image/png": "[encoded data removed]",
      "text/plain": [
       "<Figure size 432x288 with 2 Axes>"
      ]
     },
     "metadata": {
      "needs_background": "light"
     },
     "output_type": "display_data"
    }
   ],
   "source": [
    "plt.pcolor(test_x, test_y, predicted_solution,cmap='coolwarm')\n",
    "plt.colorbar()\n",
    "plt.show()"
   ]
  },
  {
   "cell_type": "code",
   "execution_count": 41,
   "id": "9851b115",
   "metadata": {},
   "outputs": [],
   "source": [
    "import pandas as pd"
   ]
  },
  {
   "cell_type": "code",
   "execution_count": 45,
   "id": "49fc53ab",
   "metadata": {},
   "outputs": [
    {
     "data": {
      "text/plain": [
       "(1000, 1000)"
      ]
     },
     "execution_count": 45,
     "metadata": {},
     "output_type": "execute_result"
    }
   ],
   "source": [
    "prediction = pd.DataFrame(predicted_solution)\n",
    "prediction.shape"
   ]
  },
  {
   "cell_type": "code",
   "execution_count": 43,
   "id": "be61e529",
   "metadata": {},
   "outputs": [],
   "source": [
    "prediction.to_csv(\"predictionpinn.csv\")"
   ]
  },
  {
   "cell_type": "code",
   "execution_count": 46,
   "id": "4281fed0",
   "metadata": {},
   "outputs": [
    {
     "data": {
      "text/plain": [
       "(1000, 1000)"
      ]
     },
     "execution_count": 46,
     "metadata": {},
     "output_type": "execute_result"
    }
   ],
   "source": [
    "error = pd.DataFrame(residual)\n",
    "error.shape"
   ]
  },
  {
   "cell_type": "code",
   "execution_count": null,
   "id": "dbd01cc1",
   "metadata": {},
   "outputs": [],
   "source": [
    "#layer_size=[2]+[64]*3+[1]\n",
    "#activation='tanh'\n",
    "#net=dde.maps.FNN(layer_size,activation,intializer)"
   ]
  },
  {
   "cell_type": "code",
   "execution_count": null,
   "id": "b0f526a6",
   "metadata": {},
   "outputs": [],
   "source": []
  },
  {
   "cell_type": "code",
   "execution_count": null,
   "id": "8413bea7",
   "metadata": {},
   "outputs": [],
   "source": [
    "\n",
    "#model=dde.Model(data,net)"
   ]
  },
  {
   "cell_type": "code",
   "execution_count": null,
   "id": "97ea60c2",
   "metadata": {},
   "outputs": [],
   "source": [
    "#compile the model\n",
    "#model.compile(\"adam\", lr=0.0001)\n",
    "#model.train(epochs=1000)\n"
   ]
  },
  {
   "cell_type": "code",
   "execution_count": null,
   "id": "f801d42d",
   "metadata": {},
   "outputs": [],
   "source": [
    "#train model\n",
    "#losshistory,train_state = model.train(epochs=1000)"
   ]
  },
  {
   "cell_type": "code",
   "execution_count": null,
   "id": "89e584a4",
   "metadata": {},
   "outputs": [],
   "source": []
  }
 ],
 "metadata": {
  "kernelspec": {
   "display_name": "Python 3 (ipykernel)",
   "language": "python",
   "name": "python3"
  },
  "language_info": {
   "codemirror_mode": {
    "name": "ipython",
    "version": 3
   },
   "file_extension": ".py",
   "mimetype": "text/x-python",
   "name": "python",
   "nbconvert_exporter": "python",
   "pygments_lexer": "ipython3",
   "version": "3.9.12"
  }
 },
 "nbformat": 4,
 "nbformat_minor": 5
}
